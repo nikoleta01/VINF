{
 "cells": [
  {
   "cell_type": "markdown",
   "metadata": {},
   "source": [
    "# Mapovanie nazvov clankov pre 3 jazykove verzie"
   ]
  },
  {
   "cell_type": "markdown",
   "metadata": {},
   "source": [
    "## Projekt Vyhladavanie informacii"
   ]
  },
  {
   "cell_type": "markdown",
   "metadata": {},
   "source": [
    "### Nikoleta Hroncova"
   ]
  },
  {
   "cell_type": "markdown",
   "metadata": {},
   "source": [
    "Otvorenie suboru z datami, pracujem na vzorke len 100 riadkov pre ucely ukazky."
   ]
  },
  {
   "cell_type": "code",
   "execution_count": 42,
   "metadata": {},
   "outputs": [
    {
     "name": "stdout",
     "output_type": "stream",
     "text": [
      "['# started 2017-05-30T23:22:46Z\\n', '<http://dbpedia.org/resource/Jack_Bauer> <http://www.w3.org/2002/07/owl#sameAs> <http://www.wikidata.org/entity/Q24> .\\n', '<http://dbpedia.org/resource/Jack_Bauer> <http://www.w3.org/2002/07/owl#sameAs> <http://wikidata.dbpedia.org/resource/Q24> .\\n', '<http://dbpedia.org/resource/Jack_Bauer> <http://www.w3.org/2002/07/owl#sameAs> <http://da.dbpedia.org/resource/Jack_Bauer> .\\n', '<http://dbpedia.org/resource/Jack_Bauer> <http://www.w3.org/2002/07/owl#sameAs> <http://dbpedia.org/resource/Jack_Bauer> .\\n', '<http://dbpedia.org/resource/Jack_Bauer> <http://www.w3.org/2002/07/owl#sameAs> <http://es.dbpedia.org/resource/Jack_Bauer> .\\n', '<http://dbpedia.org/resource/Jack_Bauer> <http://www.w3.org/2002/07/owl#sameAs> <http://fa.dbpedia.org/resource/جک_باور> .\\n', '<http://dbpedia.org/resource/Jack_Bauer> <http://www.w3.org/2002/07/owl#sameAs> <http://fi.dbpedia.org/resource/Jack_Bauer> .\\n', '<http://dbpedia.org/resource/Jack_Bauer> <http://www.w3.org/2002/07/owl#sameAs> <http://fr.dbpedia.org/resource/Jack_Bauer> .\\n', \"<http://dbpedia.org/resource/Jack_Bauer> <http://www.w3.org/2002/07/owl#sameAs> <http://he.dbpedia.org/resource/ג'ק_באואר> .\\n\", '<http://dbpedia.org/resource/Jack_Bauer> <http://www.w3.org/2002/07/owl#sameAs> <http://hu.dbpedia.org/resource/Jack_Bauer> .\\n', '<http://dbpedia.org/resource/Jack_Bauer> <http://www.w3.org/2002/07/owl#sameAs> <http://is.dbpedia.org/resource/Jack_Bauer> .\\n', '<http://dbpedia.org/resource/Jack_Bauer> <http://www.w3.org/2002/07/owl#sameAs> <http://it.dbpedia.org/resource/Jack_Bauer> .\\n', '<http://dbpedia.org/resource/Jack_Bauer> <http://www.w3.org/2002/07/owl#sameAs> <http://ja.dbpedia.org/resource/ジャック・バウアー> .\\n', '<http://dbpedia.org/resource/Jack_Bauer> <http://www.w3.org/2002/07/owl#sameAs> <http://lt.dbpedia.org/resource/Jack_Bauer> .\\n', '<http://dbpedia.org/resource/Jack_Bauer> <http://www.w3.org/2002/07/owl#sameAs> <http://mk.dbpedia.org/resource/Џек_Бауер> .\\n', '<http://dbpedia.org/resource/Jack_Bauer> <http://www.w3.org/2002/07/owl#sameAs> <http://nl.dbpedia.org/resource/Jack_Bauer_(personage)> .\\n', '<http://dbpedia.org/resource/Jack_Bauer> <http://www.w3.org/2002/07/owl#sameAs> <http://no.dbpedia.org/resource/Jack_Bauer> .\\n', '<http://dbpedia.org/resource/Jack_Bauer> <http://www.w3.org/2002/07/owl#sameAs> <http://pt.dbpedia.org/resource/Jack_Bauer> .\\n', '<http://dbpedia.org/resource/Jack_Bauer> <http://www.w3.org/2002/07/owl#sameAs> <http://simple.dbpedia.org/resource/Jack_Bauer> .\\n', '<http://dbpedia.org/resource/Jack_Bauer> <http://www.w3.org/2002/07/owl#sameAs> <http://sv.dbpedia.org/resource/Jack_Bauer> .\\n', '<http://dbpedia.org/resource/Jack_Bauer> <http://www.w3.org/2002/07/owl#sameAs> <http://sw.dbpedia.org/resource/Jack_Bauer> .\\n', '<http://dbpedia.org/resource/Jack_Bauer> <http://www.w3.org/2002/07/owl#sameAs> <http://tr.dbpedia.org/resource/Jack_Bauer> .\\n', '<http://dbpedia.org/resource/Jack_Bauer> <http://www.w3.org/2002/07/owl#sameAs> <http://uk.dbpedia.org/resource/Джек_Бауер> .\\n', '<http://dbpedia.org/resource/Jack_Bauer> <http://www.w3.org/2002/07/owl#sameAs> <http://ur.dbpedia.org/resource/جیک_باور> .\\n', '<http://dbpedia.org/resource/Jack_Bauer> <http://www.w3.org/2002/07/owl#sameAs> <http://vi.dbpedia.org/resource/Jack_Bauer> .\\n', '<http://dbpedia.org/resource/Jack_Bauer> <http://www.w3.org/2002/07/owl#sameAs> <http://zh.dbpedia.org/resource/傑克·鮑爾> .\\n', '<http://dbpedia.org/resource/Africa> <http://www.w3.org/2002/07/owl#sameAs> <http://www.wikidata.org/entity/Q15> .\\n', '<http://dbpedia.org/resource/Africa> <http://www.w3.org/2002/07/owl#sameAs> <http://wikidata.dbpedia.org/resource/Q15> .\\n', '<http://dbpedia.org/resource/Africa> <http://www.w3.org/2002/07/owl#sameAs> <http://af.dbpedia.org/resource/Afrika> .\\n', '<http://dbpedia.org/resource/Africa> <http://www.w3.org/2002/07/owl#sameAs> <http://als.dbpedia.org/resource/Afrika> .\\n', '<http://dbpedia.org/resource/Africa> <http://www.w3.org/2002/07/owl#sameAs> <http://am.dbpedia.org/resource/አፍሪቃ> .\\n', '<http://dbpedia.org/resource/Africa> <http://www.w3.org/2002/07/owl#sameAs> <http://an.dbpedia.org/resource/Africa> .\\n', '<http://dbpedia.org/resource/Africa> <http://www.w3.org/2002/07/owl#sameAs> <http://ar.dbpedia.org/resource/أفريقيا> .\\n', '<http://dbpedia.org/resource/Africa> <http://www.w3.org/2002/07/owl#sameAs> <http://arz.dbpedia.org/resource/افريقيا> .\\n', '<http://dbpedia.org/resource/Africa> <http://www.w3.org/2002/07/owl#sameAs> <http://ast.dbpedia.org/resource/África> .\\n', '<http://dbpedia.org/resource/Africa> <http://www.w3.org/2002/07/owl#sameAs> <http://az.dbpedia.org/resource/Afrika> .\\n', '<http://dbpedia.org/resource/Africa> <http://www.w3.org/2002/07/owl#sameAs> <http://azb.dbpedia.org/resource/آفریقا> .\\n', '<http://dbpedia.org/resource/Africa> <http://www.w3.org/2002/07/owl#sameAs> <http://ba.dbpedia.org/resource/Африка> .\\n', '<http://dbpedia.org/resource/Africa> <http://www.w3.org/2002/07/owl#sameAs> <http://bar.dbpedia.org/resource/Afrika> .\\n', '<http://dbpedia.org/resource/Africa> <http://www.w3.org/2002/07/owl#sameAs> <http://be.dbpedia.org/resource/Афрыка> .\\n', '<http://dbpedia.org/resource/Africa> <http://www.w3.org/2002/07/owl#sameAs> <http://bg.dbpedia.org/resource/Африка> .\\n', '<http://dbpedia.org/resource/Africa> <http://www.w3.org/2002/07/owl#sameAs> <http://bn.dbpedia.org/resource/আফ্রিকা> .\\n', '<http://dbpedia.org/resource/Africa> <http://www.w3.org/2002/07/owl#sameAs> <http://br.dbpedia.org/resource/Afrika> .\\n', '<http://dbpedia.org/resource/Africa> <http://www.w3.org/2002/07/owl#sameAs> <http://bs.dbpedia.org/resource/Afrika> .\\n', '<http://dbpedia.org/resource/Africa> <http://www.w3.org/2002/07/owl#sameAs> <http://ca.dbpedia.org/resource/Àfrica> .\\n', '<http://dbpedia.org/resource/Africa> <http://www.w3.org/2002/07/owl#sameAs> <http://ce.dbpedia.org/resource/Африка> .\\n', '<http://dbpedia.org/resource/Africa> <http://www.w3.org/2002/07/owl#sameAs> <http://ceb.dbpedia.org/resource/Aprika> .\\n', '<http://dbpedia.org/resource/Africa> <http://www.w3.org/2002/07/owl#sameAs> <http://ckb.dbpedia.org/resource/ئەفریقا> .\\n', '<http://dbpedia.org/resource/Africa> <http://www.w3.org/2002/07/owl#sameAs> <http://commons.dbpedia.org/resource/Africa_-_Afrique_-_أفريقيا> .\\n', '<http://dbpedia.org/resource/Africa> <http://www.w3.org/2002/07/owl#sameAs> <http://cs.dbpedia.org/resource/Afrika> .\\n', '<http://dbpedia.org/resource/Africa> <http://www.w3.org/2002/07/owl#sameAs> <http://cv.dbpedia.org/resource/Африка> .\\n', '<http://dbpedia.org/resource/Africa> <http://www.w3.org/2002/07/owl#sameAs> <http://cy.dbpedia.org/resource/Affrica> .\\n', '<http://dbpedia.org/resource/Africa> <http://www.w3.org/2002/07/owl#sameAs> <http://da.dbpedia.org/resource/Afrika> .\\n', '<http://dbpedia.org/resource/Africa> <http://www.w3.org/2002/07/owl#sameAs> <http://de.dbpedia.org/resource/Afrika> .\\n', '<http://dbpedia.org/resource/Africa> <http://www.w3.org/2002/07/owl#sameAs> <http://el.dbpedia.org/resource/Αφρική> .\\n', '<http://dbpedia.org/resource/Africa> <http://www.w3.org/2002/07/owl#sameAs> <http://dbpedia.org/resource/Africa> .\\n', '<http://dbpedia.org/resource/Africa> <http://www.w3.org/2002/07/owl#sameAs> <http://eo.dbpedia.org/resource/Afriko> .\\n', '<http://dbpedia.org/resource/Africa> <http://www.w3.org/2002/07/owl#sameAs> <http://es.dbpedia.org/resource/África> .\\n', '<http://dbpedia.org/resource/Africa> <http://www.w3.org/2002/07/owl#sameAs> <http://et.dbpedia.org/resource/Aafrika> .\\n', '<http://dbpedia.org/resource/Africa> <http://www.w3.org/2002/07/owl#sameAs> <http://eu.dbpedia.org/resource/Afrika> .\\n', '<http://dbpedia.org/resource/Africa> <http://www.w3.org/2002/07/owl#sameAs> <http://fa.dbpedia.org/resource/آفریقا> .\\n', '<http://dbpedia.org/resource/Africa> <http://www.w3.org/2002/07/owl#sameAs> <http://fi.dbpedia.org/resource/Afrikka> .\\n', '<http://dbpedia.org/resource/Africa> <http://www.w3.org/2002/07/owl#sameAs> <http://fo.dbpedia.org/resource/Afrika> .\\n', '<http://dbpedia.org/resource/Africa> <http://www.w3.org/2002/07/owl#sameAs> <http://fr.dbpedia.org/resource/Afrique> .\\n', '<http://dbpedia.org/resource/Africa> <http://www.w3.org/2002/07/owl#sameAs> <http://fy.dbpedia.org/resource/Afrika> .\\n', '<http://dbpedia.org/resource/Africa> <http://www.w3.org/2002/07/owl#sameAs> <http://ga.dbpedia.org/resource/An_Afraic> .\\n', '<http://dbpedia.org/resource/Africa> <http://www.w3.org/2002/07/owl#sameAs> <http://gd.dbpedia.org/resource/Afraga> .\\n', '<http://dbpedia.org/resource/Africa> <http://www.w3.org/2002/07/owl#sameAs> <http://gl.dbpedia.org/resource/África> .\\n', '<http://dbpedia.org/resource/Africa> <http://www.w3.org/2002/07/owl#sameAs> <http://gu.dbpedia.org/resource/આફ્રિકા> .\\n', '<http://dbpedia.org/resource/Africa> <http://www.w3.org/2002/07/owl#sameAs> <http://he.dbpedia.org/resource/אפריקה> .\\n', '<http://dbpedia.org/resource/Africa> <http://www.w3.org/2002/07/owl#sameAs> <http://hi.dbpedia.org/resource/अफ़्रीका> .\\n', '<http://dbpedia.org/resource/Africa> <http://www.w3.org/2002/07/owl#sameAs> <http://hr.dbpedia.org/resource/Afrika> .\\n', '<http://dbpedia.org/resource/Africa> <http://www.w3.org/2002/07/owl#sameAs> <http://hsb.dbpedia.org/resource/Afrika> .\\n', '<http://dbpedia.org/resource/Africa> <http://www.w3.org/2002/07/owl#sameAs> <http://ht.dbpedia.org/resource/Afrik> .\\n', '<http://dbpedia.org/resource/Africa> <http://www.w3.org/2002/07/owl#sameAs> <http://hu.dbpedia.org/resource/Afrika> .\\n', '<http://dbpedia.org/resource/Africa> <http://www.w3.org/2002/07/owl#sameAs> <http://hy.dbpedia.org/resource/Աֆրիկա> .\\n', '<http://dbpedia.org/resource/Africa> <http://www.w3.org/2002/07/owl#sameAs> <http://ia.dbpedia.org/resource/Africa> .\\n', '<http://dbpedia.org/resource/Africa> <http://www.w3.org/2002/07/owl#sameAs> <http://id.dbpedia.org/resource/Afrika> .\\n', '<http://dbpedia.org/resource/Africa> <http://www.w3.org/2002/07/owl#sameAs> <http://io.dbpedia.org/resource/Afrika> .\\n', '<http://dbpedia.org/resource/Africa> <http://www.w3.org/2002/07/owl#sameAs> <http://is.dbpedia.org/resource/Afríka> .\\n', '<http://dbpedia.org/resource/Africa> <http://www.w3.org/2002/07/owl#sameAs> <http://it.dbpedia.org/resource/Africa> .\\n', '<http://dbpedia.org/resource/Africa> <http://www.w3.org/2002/07/owl#sameAs> <http://ja.dbpedia.org/resource/アフリカ> .\\n', '<http://dbpedia.org/resource/Africa> <http://www.w3.org/2002/07/owl#sameAs> <http://jv.dbpedia.org/resource/Afrika> .\\n', '<http://dbpedia.org/resource/Africa> <http://www.w3.org/2002/07/owl#sameAs> <http://ka.dbpedia.org/resource/აფრიკა> .\\n', '<http://dbpedia.org/resource/Africa> <http://www.w3.org/2002/07/owl#sameAs> <http://kk.dbpedia.org/resource/Африка> .\\n', '<http://dbpedia.org/resource/Africa> <http://www.w3.org/2002/07/owl#sameAs> <http://kn.dbpedia.org/resource/ಆಫ್ರಿಕಾ> .\\n', '<http://dbpedia.org/resource/Africa> <http://www.w3.org/2002/07/owl#sameAs> <http://ko.dbpedia.org/resource/아프리카> .\\n', '<http://dbpedia.org/resource/Africa> <http://www.w3.org/2002/07/owl#sameAs> <http://ku.dbpedia.org/resource/Afrîka> .\\n', '<http://dbpedia.org/resource/Africa> <http://www.w3.org/2002/07/owl#sameAs> <http://ky.dbpedia.org/resource/Африка> .\\n', '<http://dbpedia.org/resource/Africa> <http://www.w3.org/2002/07/owl#sameAs> <http://la.dbpedia.org/resource/Africa> .\\n', '<http://dbpedia.org/resource/Africa> <http://www.w3.org/2002/07/owl#sameAs> <http://lb.dbpedia.org/resource/Afrika> .\\n', '<http://dbpedia.org/resource/Africa> <http://www.w3.org/2002/07/owl#sameAs> <http://li.dbpedia.org/resource/Afrika> .\\n', '<http://dbpedia.org/resource/Africa> <http://www.w3.org/2002/07/owl#sameAs> <http://lmo.dbpedia.org/resource/Africa> .\\n', '<http://dbpedia.org/resource/Africa> <http://www.w3.org/2002/07/owl#sameAs> <http://lt.dbpedia.org/resource/Afrika> .\\n', '<http://dbpedia.org/resource/Africa> <http://www.w3.org/2002/07/owl#sameAs> <http://lv.dbpedia.org/resource/Āfrika> .\\n', '<http://dbpedia.org/resource/Africa> <http://www.w3.org/2002/07/owl#sameAs> <http://mg.dbpedia.org/resource/Afrika> .\\n', '<http://dbpedia.org/resource/Africa> <http://www.w3.org/2002/07/owl#sameAs> <http://mk.dbpedia.org/resource/Африка> .\\n', '<http://dbpedia.org/resource/Africa> <http://www.w3.org/2002/07/owl#sameAs> <http://ml.dbpedia.org/resource/ആഫ്രിക്ക> .\\n', '<http://dbpedia.org/resource/Africa> <http://www.w3.org/2002/07/owl#sameAs> <http://mn.dbpedia.org/resource/Африк> .\\n']\n"
     ]
    }
   ],
   "source": [
    "with open(\"interlanguage_links_en.ttl\") as myfile:\n",
    "    head = [next(myfile) for x in range(100)]\n",
    "print(head)"
   ]
  },
  {
   "cell_type": "code",
   "execution_count": 43,
   "metadata": {},
   "outputs": [],
   "source": [
    "# f = open(\"shortenedFile.txt\", \"w\")\n",
    "# f.write(str(head))\n",
    "# f.close()"
   ]
  },
  {
   "cell_type": "markdown",
   "metadata": {},
   "source": [
    "Ulozime si len tretiu cast kazdej trojice, pretoze tam sa nachadzaju vsetky dolezite informacie, ktore budeme potrebovat."
   ]
  },
  {
   "cell_type": "code",
   "execution_count": 45,
   "metadata": {},
   "outputs": [],
   "source": [
    "correct = []\n",
    "for i in head:\n",
    "    splitted = i.split(' ')\n",
    "    correct.append(splitted[2])"
   ]
  },
  {
   "cell_type": "code",
   "execution_count": 46,
   "metadata": {},
   "outputs": [
    {
     "name": "stdout",
     "output_type": "stream",
     "text": [
      "['2017-05-30T23:22:46Z\\n', '<http://www.wikidata.org/entity/Q24>', '<http://wikidata.dbpedia.org/resource/Q24>', '<http://da.dbpedia.org/resource/Jack_Bauer>', '<http://dbpedia.org/resource/Jack_Bauer>', '<http://es.dbpedia.org/resource/Jack_Bauer>', '<http://fa.dbpedia.org/resource/جک_باور>', '<http://fi.dbpedia.org/resource/Jack_Bauer>', '<http://fr.dbpedia.org/resource/Jack_Bauer>', \"<http://he.dbpedia.org/resource/ג'ק_באואר>\", '<http://hu.dbpedia.org/resource/Jack_Bauer>', '<http://is.dbpedia.org/resource/Jack_Bauer>', '<http://it.dbpedia.org/resource/Jack_Bauer>', '<http://ja.dbpedia.org/resource/ジャック・バウアー>', '<http://lt.dbpedia.org/resource/Jack_Bauer>', '<http://mk.dbpedia.org/resource/Џек_Бауер>', '<http://nl.dbpedia.org/resource/Jack_Bauer_(personage)>', '<http://no.dbpedia.org/resource/Jack_Bauer>', '<http://pt.dbpedia.org/resource/Jack_Bauer>', '<http://simple.dbpedia.org/resource/Jack_Bauer>', '<http://sv.dbpedia.org/resource/Jack_Bauer>', '<http://sw.dbpedia.org/resource/Jack_Bauer>', '<http://tr.dbpedia.org/resource/Jack_Bauer>', '<http://uk.dbpedia.org/resource/Джек_Бауер>', '<http://ur.dbpedia.org/resource/جیک_باور>', '<http://vi.dbpedia.org/resource/Jack_Bauer>', '<http://zh.dbpedia.org/resource/傑克·鮑爾>', '<http://www.wikidata.org/entity/Q15>', '<http://wikidata.dbpedia.org/resource/Q15>', '<http://af.dbpedia.org/resource/Afrika>', '<http://als.dbpedia.org/resource/Afrika>', '<http://am.dbpedia.org/resource/አፍሪቃ>', '<http://an.dbpedia.org/resource/Africa>', '<http://ar.dbpedia.org/resource/أفريقيا>', '<http://arz.dbpedia.org/resource/افريقيا>', '<http://ast.dbpedia.org/resource/África>', '<http://az.dbpedia.org/resource/Afrika>', '<http://azb.dbpedia.org/resource/آفریقا>', '<http://ba.dbpedia.org/resource/Африка>', '<http://bar.dbpedia.org/resource/Afrika>', '<http://be.dbpedia.org/resource/Афрыка>', '<http://bg.dbpedia.org/resource/Африка>', '<http://bn.dbpedia.org/resource/আফ্রিকা>', '<http://br.dbpedia.org/resource/Afrika>', '<http://bs.dbpedia.org/resource/Afrika>', '<http://ca.dbpedia.org/resource/Àfrica>', '<http://ce.dbpedia.org/resource/Африка>', '<http://ceb.dbpedia.org/resource/Aprika>', '<http://ckb.dbpedia.org/resource/ئەفریقا>', '<http://commons.dbpedia.org/resource/Africa_-_Afrique_-_أفريقيا>', '<http://cs.dbpedia.org/resource/Afrika>', '<http://cv.dbpedia.org/resource/Африка>', '<http://cy.dbpedia.org/resource/Affrica>', '<http://da.dbpedia.org/resource/Afrika>', '<http://de.dbpedia.org/resource/Afrika>', '<http://el.dbpedia.org/resource/Αφρική>', '<http://dbpedia.org/resource/Africa>', '<http://eo.dbpedia.org/resource/Afriko>', '<http://es.dbpedia.org/resource/África>', '<http://et.dbpedia.org/resource/Aafrika>', '<http://eu.dbpedia.org/resource/Afrika>', '<http://fa.dbpedia.org/resource/آفریقا>', '<http://fi.dbpedia.org/resource/Afrikka>', '<http://fo.dbpedia.org/resource/Afrika>', '<http://fr.dbpedia.org/resource/Afrique>', '<http://fy.dbpedia.org/resource/Afrika>', '<http://ga.dbpedia.org/resource/An_Afraic>', '<http://gd.dbpedia.org/resource/Afraga>', '<http://gl.dbpedia.org/resource/África>', '<http://gu.dbpedia.org/resource/આફ્રિકા>', '<http://he.dbpedia.org/resource/אפריקה>', '<http://hi.dbpedia.org/resource/अफ़्रीका>', '<http://hr.dbpedia.org/resource/Afrika>', '<http://hsb.dbpedia.org/resource/Afrika>', '<http://ht.dbpedia.org/resource/Afrik>', '<http://hu.dbpedia.org/resource/Afrika>', '<http://hy.dbpedia.org/resource/Աֆրիկա>', '<http://ia.dbpedia.org/resource/Africa>', '<http://id.dbpedia.org/resource/Afrika>', '<http://io.dbpedia.org/resource/Afrika>', '<http://is.dbpedia.org/resource/Afríka>', '<http://it.dbpedia.org/resource/Africa>', '<http://ja.dbpedia.org/resource/アフリカ>', '<http://jv.dbpedia.org/resource/Afrika>', '<http://ka.dbpedia.org/resource/აფრიკა>', '<http://kk.dbpedia.org/resource/Африка>', '<http://kn.dbpedia.org/resource/ಆಫ್ರಿಕಾ>', '<http://ko.dbpedia.org/resource/아프리카>', '<http://ku.dbpedia.org/resource/Afrîka>', '<http://ky.dbpedia.org/resource/Африка>', '<http://la.dbpedia.org/resource/Africa>', '<http://lb.dbpedia.org/resource/Afrika>', '<http://li.dbpedia.org/resource/Afrika>', '<http://lmo.dbpedia.org/resource/Africa>', '<http://lt.dbpedia.org/resource/Afrika>', '<http://lv.dbpedia.org/resource/Āfrika>', '<http://mg.dbpedia.org/resource/Afrika>', '<http://mk.dbpedia.org/resource/Африка>', '<http://ml.dbpedia.org/resource/ആഫ്രിക്ക>', '<http://mn.dbpedia.org/resource/Африк>']\n"
     ]
    }
   ],
   "source": [
    "print(correct)"
   ]
  },
  {
   "cell_type": "markdown",
   "metadata": {},
   "source": [
    "V nasledujucej casti kodu si filtrujem z povodneho suboru anglicke, spanielske a francuzske nazvy clankov ako bolo uvedene v pseudokode. Na tento task som si pomohla kniznicou Regex. Na vystupe mozeme vidiet jednotlive riadky vyfiltrovane z povodneho suboru."
   ]
  },
  {
   "cell_type": "code",
   "execution_count": 47,
   "metadata": {},
   "outputs": [
    {
     "name": "stdout",
     "output_type": "stream",
     "text": [
      "<http://dbpedia.org/resource/Jack_Bauer>\n",
      "<http://es.dbpedia.org/resource/Jack_Bauer>\n",
      "<http://fr.dbpedia.org/resource/Jack_Bauer>\n",
      "<http://dbpedia.org/resource/Africa>\n",
      "<http://es.dbpedia.org/resource/África>\n",
      "<http://fr.dbpedia.org/resource/Afrique>\n"
     ]
    }
   ],
   "source": [
    "import re\n",
    "for line in correct:\n",
    "    spanishPattern = '.es\\..'\n",
    "    frenchPattern = '.fr\\..'\n",
    "    englishPattern = './/dbped.'\n",
    "    test_string = line\n",
    "    spanish = re.search(spanishPattern, test_string)\n",
    "    french = re.search(frenchPattern, test_string)\n",
    "    english = re.search(englishPattern, test_string)\n",
    "    if spanish:\n",
    "        print(line)\n",
    "    elif french:\n",
    "        print(line)\n",
    "    elif english:\n",
    "        print(line)"
   ]
  }
 ],
 "metadata": {
  "kernelspec": {
   "display_name": "Python 3",
   "language": "python",
   "name": "python3"
  },
  "language_info": {
   "codemirror_mode": {
    "name": "ipython",
    "version": 3
   },
   "file_extension": ".py",
   "mimetype": "text/x-python",
   "name": "python",
   "nbconvert_exporter": "python",
   "pygments_lexer": "ipython3",
   "version": "3.7.3"
  }
 },
 "nbformat": 4,
 "nbformat_minor": 2
}
